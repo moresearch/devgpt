{
  "cells": [
    {
      "cell_type": "markdown",
      "metadata": {
        "id": "a3lDj6XnIptw"
      },
      "source": [
        "# Untitled Notebook\n",
        "\n",
        "This is an initial placeholder notebook. Feel free to edit and rename as well as create your own notebooks, to use Google Cloud Datalab."
      ]
    },
    {
      "cell_type": "code",
      "execution_count": 2,
      "metadata": {
        "id": "j7UM5hweIpt3",
        "outputId": "a870e34b-c54b-40c3-8c82-7fe32782da6b",
        "colab": {
          "base_uri": "https://localhost:8080/"
        }
      },
      "outputs": [
        {
          "output_type": "stream",
          "name": "stdout",
          "text": [
            "Hello GPT!\n"
          ]
        }
      ],
      "source": [
        "# Code cell ready to be run...\n",
        "print('Hello GPT!')"
      ]
    }
  ],
  "metadata": {
    "kernelspec": {
      "display_name": "Python 2",
      "language": "python",
      "name": "python2"
    },
    "language_info": {
      "codemirror_mode": {
        "name": "ipython",
        "version": 2
      },
      "file_extension": ".py",
      "mimetype": "text/x-python",
      "name": "python",
      "nbconvert_exporter": "python",
      "pygments_lexer": "ipython2",
      "version": "2.7.9"
    },
    "colab": {
      "provenance": []
    }
  },
  "nbformat": 4,
  "nbformat_minor": 0
}